{
 "cells": [
  {
   "cell_type": "code",
   "execution_count": 1,
   "metadata": {},
   "outputs": [
    {
     "name": "stdout",
     "output_type": "stream",
     "text": [
      "SyedAli Fathima, thangam Assalamualaikum....\n"
     ]
    }
   ],
   "source": [
    "print(\"SyedAli Fathima, thangam Assalamualaikum....\")"
   ]
  },
  {
   "cell_type": "code",
   "execution_count": 333,
   "metadata": {},
   "outputs": [
    {
     "data": {
      "text/plain": [
       "66368"
      ]
     },
     "execution_count": 333,
     "metadata": {},
     "output_type": "execute_result"
    }
   ],
   "source": [
    "import pandas as pd\n",
    "import numpy as np\n",
    "import matplotlib.pyplot as plt\n",
    "import seaborn as sns\n",
    "import warnings\n",
    "import logging\n",
    "\n",
    "pd.options.display.float_format = '{:.4f}'.format\n",
    "\n",
    "#Loading data from the files in to Pandas Dataframes\n",
    "company_df = pd.read_csv('companies.txt', sep='\\t', encoding='iso-8859-1')\n",
    "\n",
    "#Unique companies\n",
    "company_df['permalink'].unique().size\n",
    "company_df.shape\n",
    "company_df.isnull().sum()\n",
    "company_df.isnull().any()\n",
    "company_df.isnull().all()\n",
    "#Removing unused columns\n",
    "company_df = company_df.drop('homepage_url', axis=1)\n",
    "company_df = company_df.drop('founded_at', axis=1)\n",
    "company_df = company_df.drop('state_code', axis=1)\n",
    "company_df = company_df.drop('region', axis=1)\n",
    "company_df = company_df.drop('city', axis=1)\n",
    "round(100*(company_df.isnull().sum()/len(company_df.index)),2)\n",
    "company_df['permalink'].unique().size"
   ]
  },
  {
   "cell_type": "code",
   "execution_count": 334,
   "metadata": {},
   "outputs": [],
   "source": [
    "#Define function to retrieve Primary Category\n",
    "def getPrimCategory(category_name):\n",
    "    a_new_string =category_name[0:category_name.find('|')]\n",
    "    return a_new_string\n",
    "#print(getPrimCategory(\"SAF|Name\"))"
   ]
  },
  {
   "cell_type": "code",
   "execution_count": 335,
   "metadata": {},
   "outputs": [
    {
     "data": {
      "text/plain": [
       "permalink       0.0000\n",
       "name            0.0000\n",
       "category_list   0.0000\n",
       "status          0.0000\n",
       "country_code    0.0000\n",
       "dtype: float64"
      ]
     },
     "execution_count": 335,
     "metadata": {},
     "output_type": "execute_result"
    }
   ],
   "source": [
    "#Clean up company dataframe by removing null rows\n",
    "100*(len(company_df[company_df.isnull().sum(axis=1)>1].index) / len(company_df.index))\n",
    "company_df = company_df[company_df.isnull().sum(axis=1)<=1]\n",
    "round(100*(company_df.isnull().sum()/len(company_df.index)),2)\n",
    "company_df = company_df[company_df.category_list.notnull()]\n",
    "company_df = company_df[company_df.country_code.notnull()]\n",
    "round(100*(company_df.isnull().sum()/len(company_df.index)),2)"
   ]
  },
  {
   "cell_type": "code",
   "execution_count": 336,
   "metadata": {
    "collapsed": true
   },
   "outputs": [
    {
     "data": {
      "text/plain": [
       "raised_amount_usd\n",
       "10000000.0000    1809\n",
       "5000000.0000     1713\n",
       "3000000.0000     1215\n",
       "2000000.0000     1210\n",
       "1000000.0000     1138\n",
       "15000000.0000    1086\n",
       "4000000.0000     1012\n",
       "6000000.0000      978\n",
       "20000000.0000     974\n",
       "8000000.0000      862\n",
       "7000000.0000      763\n",
       "12000000.0000     738\n",
       "1500000.0000      702\n",
       "25000000.0000     567\n",
       "30000000.0000     556\n",
       "500000.0000       535\n",
       "2500000.0000      526\n",
       "3500000.0000      427\n",
       "9000000.0000      410\n",
       "11000000.0000     369\n",
       "4500000.0000      331\n",
       "7500000.0000      331\n",
       "50000000.0000     317\n",
       "16000000.0000     309\n",
       "13000000.0000     307\n",
       "14000000.0000     293\n",
       "40000000.0000     292\n",
       "5500000.0000      290\n",
       "6500000.0000      287\n",
       "18000000.0000     250\n",
       "100000.0000       248\n",
       "250000.0000       246\n",
       "1200000.0000      241\n",
       "200000.0000       238\n",
       "35000000.0000     231\n",
       "17000000.0000     214\n",
       "150000.0000       177\n",
       "22000000.0000     175\n",
       "21000000.0000     174\n",
       "1600000.0000      173\n",
       "300000.0000       170\n",
       "750000.0000       167\n",
       "Name: permalink, dtype: int64"
      ]
     },
     "execution_count": 336,
     "metadata": {},
     "output_type": "execute_result"
    }
   ],
   "source": [
    "rounds_df = pd.read_csv('rounds2.csv', encoding='iso-8859-1')\n",
    "#Making features consistencies for good mapping\n",
    "rounds_df = rounds_df.rename({\"company_permalink\":\"permalink\"}, axis='columns')\n",
    "rounds_df['permalink'] = rounds_df['permalink'].str.lower()\n",
    "company_df['permalink'] = company_df['permalink'].str.lower()\n",
    "#Data analysing\n",
    "rounds_df.shape\n",
    "rounds_df.isnull().sum()\n",
    "#Removing unused features\n",
    "rounds_df = rounds_df.drop('funding_round_code', axis=1)\n",
    "rounds_df = rounds_df.drop('funded_at', axis=1)\n",
    "round(100*(company_df.isnull().sum()/len(company_df.index)),2)\n",
    "rounds_df.head()\n",
    "rounds_df.isnull().any()\n",
    "#Removing null rows\n",
    "rounds_df = rounds_df[rounds_df.raised_amount_usd.notnull()]\n",
    "rounds_df.isnull().any()\n",
    "rounds_df.head()\n",
    "rounds_df['permalink'].unique().size\n",
    "rounds_df.head()\n",
    "\n",
    "\n",
    "venture_fund_df = rounds_df.loc[rounds_df['funding_round_type'].isin(['venture']), :]\n",
    "venture_fund_df.head(42)\n",
    "venture_fund_comp_grp = venture_fund_df.groupby(['raised_amount_usd'])\n",
    "venture_fund_comp_grp['permalink'].count().sort_values(ascending=False).head(42)\n",
    "\n",
    "#fund_grp = rounds_df.groupby('funding_round_type')\n",
    "#fund_grp['raised_amount_usd'].sum().sort_values(ascending=False).head(24)"
   ]
  },
  {
   "cell_type": "code",
   "execution_count": 337,
   "metadata": {},
   "outputs": [
    {
     "data": {
      "image/png": "[encoded data removed]",
      "text/plain": [
       "<Figure size 432x288 with 1 Axes>"
      ]
     },
     "metadata": {},
     "output_type": "display_data"
    }
   ],
   "source": [
    "four_fund_df = rounds_df.loc[rounds_df['funding_round_type'].isin(['venture', 'angel', 'seed', 'private_equity']), :]\n",
    "four_fund_df.head(42)\n",
    "sns.set(style='white')\n",
    "sns.boxplot(x='funding_round_type', y='raised_amount_usd', data=four_fund_df)\n",
    "plt.yscale('log')\n",
    "plt.show()\n",
    "#venture_fund_comp_grp = venture_fund_df.groupby(['raised_amount_usd'])\n",
    "#venture_fund_comp_grp['permalink'].count().sort_values(ascending=False).head(42)"
   ]
  },
  {
   "cell_type": "code",
   "execution_count": 338,
   "metadata": {},
   "outputs": [
    {
     "data": {
      "text/html": [
       "<div>\n",
       "<style scoped>\n",
       "    .dataframe tbody tr th:only-of-type {\n",
       "        vertical-align: middle;\n",
       "    }\n",
       "\n",
       "    .dataframe tbody tr th {\n",
       "        vertical-align: top;\n",
       "    }\n",
       "\n",
       "    .dataframe thead th {\n",
       "        text-align: right;\n",
       "    }\n",
       "</style>\n",
       "<table border=\"1\" class=\"dataframe\">\n",
       "  <thead>\n",
       "    <tr style=\"text-align: right;\">\n",
       "      <th></th>\n",
       "      <th>permalink</th>\n",
       "      <th>funding_round_permalink</th>\n",
       "      <th>funding_round_type</th>\n",
       "      <th>raised_amount_usd</th>\n",
       "      <th>name</th>\n",
       "      <th>category_list</th>\n",
       "      <th>status</th>\n",
       "      <th>country_code</th>\n",
       "    </tr>\n",
       "  </thead>\n",
       "  <tbody>\n",
       "    <tr>\n",
       "      <th>0</th>\n",
       "      <td>/organization/-fame</td>\n",
       "      <td>/funding-round/9a01d05418af9f794eebff7ace91f638</td>\n",
       "      <td>venture</td>\n",
       "      <td>10000000.0000</td>\n",
       "      <td>#fame</td>\n",
       "      <td>medi</td>\n",
       "      <td>operating</td>\n",
       "      <td>IND</td>\n",
       "    </tr>\n",
       "    <tr>\n",
       "      <th>1</th>\n",
       "      <td>/organization/-qounter</td>\n",
       "      <td>/funding-round/b44fbb94153f6cdef13083530bb48030</td>\n",
       "      <td>seed</td>\n",
       "      <td>700000.0000</td>\n",
       "      <td>:Qounter</td>\n",
       "      <td>application platforms</td>\n",
       "      <td>operating</td>\n",
       "      <td>USA</td>\n",
       "    </tr>\n",
       "    <tr>\n",
       "      <th>2</th>\n",
       "      <td>/organization/0-6-com</td>\n",
       "      <td>/funding-round/5727accaeaa57461bd22a9bdd945382d</td>\n",
       "      <td>venture</td>\n",
       "      <td>2000000.0000</td>\n",
       "      <td>0-6.com</td>\n",
       "      <td>curated we</td>\n",
       "      <td>operating</td>\n",
       "      <td>CHN</td>\n",
       "    </tr>\n",
       "    <tr>\n",
       "      <th>3</th>\n",
       "      <td>/organization/01games-technology</td>\n",
       "      <td>/funding-round/7d53696f2b4f607a2f2a8cbb83d01839</td>\n",
       "      <td>undisclosed</td>\n",
       "      <td>41250.0000</td>\n",
       "      <td>01Games Technology</td>\n",
       "      <td>game</td>\n",
       "      <td>operating</td>\n",
       "      <td>HKG</td>\n",
       "    </tr>\n",
       "    <tr>\n",
       "      <th>4</th>\n",
       "      <td>/organization/0ndine-biomedical-inc</td>\n",
       "      <td>/funding-round/2b9d3ac293d5cdccbecff5c8cb0f327d</td>\n",
       "      <td>seed</td>\n",
       "      <td>43360.0000</td>\n",
       "      <td>Ondine Biomedical Inc.</td>\n",
       "      <td>biotechnolog</td>\n",
       "      <td>operating</td>\n",
       "      <td>CAN</td>\n",
       "    </tr>\n",
       "  </tbody>\n",
       "</table>\n",
       "</div>"
      ],
      "text/plain": [
       "                             permalink  \\\n",
       "0                  /organization/-fame   \n",
       "1               /organization/-qounter   \n",
       "2                /organization/0-6-com   \n",
       "3     /organization/01games-technology   \n",
       "4  /organization/0ndine-biomedical-inc   \n",
       "\n",
       "                           funding_round_permalink funding_round_type  \\\n",
       "0  /funding-round/9a01d05418af9f794eebff7ace91f638            venture   \n",
       "1  /funding-round/b44fbb94153f6cdef13083530bb48030               seed   \n",
       "2  /funding-round/5727accaeaa57461bd22a9bdd945382d            venture   \n",
       "3  /funding-round/7d53696f2b4f607a2f2a8cbb83d01839        undisclosed   \n",
       "4  /funding-round/2b9d3ac293d5cdccbecff5c8cb0f327d               seed   \n",
       "\n",
       "   raised_amount_usd                    name          category_list  \\\n",
       "0      10000000.0000                   #fame                   medi   \n",
       "1        700000.0000                :Qounter  application platforms   \n",
       "2       2000000.0000                 0-6.com             curated we   \n",
       "3         41250.0000      01Games Technology                   game   \n",
       "4         43360.0000  Ondine Biomedical Inc.           biotechnolog   \n",
       "\n",
       "      status country_code  \n",
       "0  operating          IND  \n",
       "1  operating          USA  \n",
       "2  operating          CHN  \n",
       "3  operating          HKG  \n",
       "4  operating          CAN  "
      ]
     },
     "execution_count": 338,
     "metadata": {},
     "output_type": "execute_result"
    }
   ],
   "source": [
    "#Merging/Combining company df and rounds df together as master df\n",
    "master_frame = pd.merge(rounds_df, company_df, how='inner', on='permalink')\n",
    "master_frame.head()\n",
    "#Making data consistencies with mapping df\n",
    "master_frame[\"category_list\"] = master_frame[\"category_list\"].apply(getPrimCategory)\n",
    "master_frame['category_list'] = master_frame['category_list'].str.lower()\n",
    "master_frame.head()\n"
   ]
  },
  {
   "cell_type": "code",
   "execution_count": 339,
   "metadata": {
    "collapsed": true
   },
   "outputs": [
    {
     "data": {
      "text/html": [
       "<div>\n",
       "<style scoped>\n",
       "    .dataframe tbody tr th:only-of-type {\n",
       "        vertical-align: middle;\n",
       "    }\n",
       "\n",
       "    .dataframe tbody tr th {\n",
       "        vertical-align: top;\n",
       "    }\n",
       "\n",
       "    .dataframe thead th {\n",
       "        text-align: right;\n",
       "    }\n",
       "</style>\n",
       "<table border=\"1\" class=\"dataframe\">\n",
       "  <thead>\n",
       "    <tr style=\"text-align: right;\">\n",
       "      <th></th>\n",
       "      <th>permalink</th>\n",
       "      <th>funding_round_permalink</th>\n",
       "      <th>funding_round_type</th>\n",
       "      <th>raised_amount_usd</th>\n",
       "      <th>name</th>\n",
       "      <th>category_list</th>\n",
       "      <th>status</th>\n",
       "      <th>country_code</th>\n",
       "    </tr>\n",
       "  </thead>\n",
       "  <tbody>\n",
       "    <tr>\n",
       "      <th>0</th>\n",
       "      <td>/organization/-fame</td>\n",
       "      <td>/funding-round/9a01d05418af9f794eebff7ace91f638</td>\n",
       "      <td>venture</td>\n",
       "      <td>10000000.0000</td>\n",
       "      <td>#fame</td>\n",
       "      <td>medi</td>\n",
       "      <td>operating</td>\n",
       "      <td>IND</td>\n",
       "    </tr>\n",
       "    <tr>\n",
       "      <th>2</th>\n",
       "      <td>/organization/0-6-com</td>\n",
       "      <td>/funding-round/5727accaeaa57461bd22a9bdd945382d</td>\n",
       "      <td>venture</td>\n",
       "      <td>2000000.0000</td>\n",
       "      <td>0-6.com</td>\n",
       "      <td>curated we</td>\n",
       "      <td>operating</td>\n",
       "      <td>CHN</td>\n",
       "    </tr>\n",
       "    <tr>\n",
       "      <th>5</th>\n",
       "      <td>/organization/0ndine-biomedical-inc</td>\n",
       "      <td>/funding-round/954b9499724b946ad8c396a57a5f3b72</td>\n",
       "      <td>venture</td>\n",
       "      <td>719491.0000</td>\n",
       "      <td>Ondine Biomedical Inc.</td>\n",
       "      <td>biotechnolog</td>\n",
       "      <td>operating</td>\n",
       "      <td>CAN</td>\n",
       "    </tr>\n",
       "    <tr>\n",
       "      <th>7</th>\n",
       "      <td>/organization/0xdata</td>\n",
       "      <td>/funding-round/3bb2ee4a2d89251a10aaa735b1180e44</td>\n",
       "      <td>venture</td>\n",
       "      <td>20000000.0000</td>\n",
       "      <td>H2O.ai</td>\n",
       "      <td>analytic</td>\n",
       "      <td>operating</td>\n",
       "      <td>USA</td>\n",
       "    </tr>\n",
       "    <tr>\n",
       "      <th>8</th>\n",
       "      <td>/organization/0xdata</td>\n",
       "      <td>/funding-round/ae2a174c06517c2394aed45006322a7e</td>\n",
       "      <td>venture</td>\n",
       "      <td>1700000.0000</td>\n",
       "      <td>H2O.ai</td>\n",
       "      <td>analytic</td>\n",
       "      <td>operating</td>\n",
       "      <td>USA</td>\n",
       "    </tr>\n",
       "  </tbody>\n",
       "</table>\n",
       "</div>"
      ],
      "text/plain": [
       "                             permalink  \\\n",
       "0                  /organization/-fame   \n",
       "2                /organization/0-6-com   \n",
       "5  /organization/0ndine-biomedical-inc   \n",
       "7                 /organization/0xdata   \n",
       "8                 /organization/0xdata   \n",
       "\n",
       "                           funding_round_permalink funding_round_type  \\\n",
       "0  /funding-round/9a01d05418af9f794eebff7ace91f638            venture   \n",
       "2  /funding-round/5727accaeaa57461bd22a9bdd945382d            venture   \n",
       "5  /funding-round/954b9499724b946ad8c396a57a5f3b72            venture   \n",
       "7  /funding-round/3bb2ee4a2d89251a10aaa735b1180e44            venture   \n",
       "8  /funding-round/ae2a174c06517c2394aed45006322a7e            venture   \n",
       "\n",
       "   raised_amount_usd                    name category_list     status  \\\n",
       "0      10000000.0000                   #fame          medi  operating   \n",
       "2       2000000.0000                 0-6.com    curated we  operating   \n",
       "5        719491.0000  Ondine Biomedical Inc.  biotechnolog  operating   \n",
       "7      20000000.0000                  H2O.ai      analytic  operating   \n",
       "8       1700000.0000                  H2O.ai      analytic  operating   \n",
       "\n",
       "  country_code  \n",
       "0          IND  \n",
       "2          CHN  \n",
       "5          CAN  \n",
       "7          USA  \n",
       "8          USA  "
      ]
     },
     "execution_count": 339,
     "metadata": {},
     "output_type": "execute_result"
    }
   ],
   "source": [
    "master_frame.head()\n",
    "selected_type = ['venture']\n",
    "master_frame['funding_round_type'].unique()\n",
    "master_frame = master_frame.loc[master_frame['funding_round_type'].isin(selected_type), :]\n",
    "master_frame.head()\n"
   ]
  },
  {
   "cell_type": "code",
   "execution_count": 349,
   "metadata": {},
   "outputs": [
    {
     "data": {
      "image/png": "[encoded data removed]",
      "text/plain": [
       "<Figure size 432x288 with 1 Axes>"
      ]
     },
     "metadata": {},
     "output_type": "display_data"
    }
   ],
   "source": [
    "english_country_df = pd.read_csv('english_country.csv', encoding='iso-8859-1')\n",
    "cnlist = list(english_country_df['country_code'])\n",
    "#print(cnlist)\n",
    "master_frame = master_frame.loc[master_frame['country_code'].isin(cnlist), :]\n",
    "master_frame.head()\n",
    "\n",
    "country_grp = master_frame.groupby('country_code')\n",
    "country_grp['raised_amount_usd'].sum().sort_values(ascending=False).plot(kind='barh')\n",
    "plt.show()\n"
   ]
  },
  {
   "cell_type": "code",
   "execution_count": null,
   "metadata": {},
   "outputs": [],
   "source": [
    "fig = plt.figure()\n",
    "ax = fig.add_axes(list(country_grp['raised_amount_usd'].sum().sort_values(ascending=False)))\n",
    "langs = ['C', 'C++', 'Java', 'Python', 'PHP']\n",
    "students = [23,17,35,29,12]\n",
    "ax.bar(langs,students)\n",
    "plt.show()"
   ]
  },
  {
   "cell_type": "code",
   "execution_count": 331,
   "metadata": {},
   "outputs": [
    {
     "name": "stdout",
     "output_type": "stream",
     "text": [
      "['category_list', 'Automotive & Sports', 'Blanks', 'Cleantech / Semiconductors', 'Entertainment', 'Health', 'Manufacturing', 'News, Search and Messaging', 'Others', 'Social, Finance, Analytics, Advertising']\n"
     ]
    }
   ],
   "source": [
    "mapping_df = pd.read_csv('mapping.csv', encoding='iso-8859-1')\n",
    "sector_str_list = list(mapping_df.columns)\n",
    "print(sector_str_list)"
   ]
  },
  {
   "cell_type": "code",
   "execution_count": 248,
   "metadata": {
    "scrolled": true
   },
   "outputs": [
    {
     "data": {
      "text/plain": [
       "179235"
      ]
     },
     "execution_count": 248,
     "metadata": {},
     "output_type": "execute_result"
    }
   ],
   "source": [
    "#Logic to convert widened features to narrowed features. Also used the sector number insteaf of sector name for this process.\n",
    "\n",
    "\n",
    "mapping_df.columns = ['category_list', 1, 2, 3, 4, 5, 6, 7, 8, 9]\n",
    "Sector_list = [1,2,3,4,5,6,7,8,9]\n",
    "\n",
    "# Create an empty list \n",
    "Row_list =[] \n",
    "# Iterate over each row and create a list for each rows\n",
    "for index, curr_row in mapping_df.iterrows(): \n",
    "    # Create list for the current row \n",
    "    my_list =[curr_row[1], curr_row[2], curr_row[3], curr_row[4], curr_row[5], curr_row[6], curr_row[7], curr_row[8], curr_row[9]] \n",
    "    # append the list to the final list \n",
    "    Row_list.append(my_list) \n",
    "cate_sector_list = []\n",
    "# Print the list \n",
    "for saf in Row_list:\n",
    "    sector = 0\n",
    "    for i in range(len(saf)):\n",
    "        sector += Sector_list[i]*saf[i]\n",
    "    #print(sector)\n",
    "    cate_sector_list.append(sector)\n",
    "    #print()\n",
    "cate_sector_list\n",
    "sector_series = pd.Series(cate_sector_list)\n",
    "mapping_df['sector'] = sector_series.values\n",
    "#removing old wide columns \n",
    "mapping_df.drop(mapping_df.columns[[1,2,3,4,5,6,7,8,9]], axis = 1, inplace = True)\n",
    "#Making data consitencies\n",
    "mapping_df['category_list'] = mapping_df['category_list'].str.lower()\n",
    "#Data analysis\n",
    "mapping_df.head()\n",
    "mapping_df.isnull().any()\n",
    "#removing null rows\n",
    "mapping_df = mapping_df[mapping_df.category_list.notnull()]\n",
    "#Merging merged_inner with mapping_df \n",
    "master_frame_map_df = pd.merge(master_frame, mapping_df, how='inner', on='category_list')\n",
    "master_frame_map_df.head()\n",
    "master_frame_map_df.size"
   ]
  },
  {
   "cell_type": "code",
   "execution_count": 278,
   "metadata": {
    "collapsed": true
   },
   "outputs": [
    {
     "data": {
      "text/plain": [
       "permalink\n",
       "/organization/flipkart                                                                  9\n",
       "/organization/delhivery                                                                 4\n",
       "/organization/urban-ladder                                                              4\n",
       "/organization/limeroad                                                                  3\n",
       "/organization/caratlane                                                                 3\n",
       "/organization/comat-technologies                                                        3\n",
       "/organization/citrus                                                                    3\n",
       "/organization/bigbasket-com                                                             3\n",
       "/organization/vserv                                                                     3\n",
       "/organization/fashion-you                                                               3\n",
       "/organization/hotelogix                                                                 2\n",
       "/organization/homeshop18                                                                2\n",
       "/organization/roposo                                                                    2\n",
       "/organization/girnarsoft                                                                2\n",
       "/organization/oneassist-consumer-solutions                                              2\n",
       "/organization/oyo-rooms                                                                 2\n",
       "/organization/maharana-infrastructure-and-professional-services-private-limited-mips    2\n",
       "/organization/paymate-india                                                             2\n",
       "/organization/zo-rooms                                                                  2\n",
       "/organization/k-12-techno-services                                                      2\n",
       "/organization/sapience-analytics-private-limited                                        2\n",
       "/organization/embibe                                                                    1\n",
       "/organization/esds-software-solution                                                    1\n",
       "/organization/excelsoft                                                                 1\n",
       "/organization/egully                                                                    1\n",
       "/organization/edserv-softsystems                                                        1\n",
       "/organization/ecom-express                                                              1\n",
       "/organization/desicrew-solutions                                                        1\n",
       "/organization/classteacher-learning-systems                                             1\n",
       "/organization/healthhiway                                                               1\n",
       "/organization/channel-mentor-it                                                         1\n",
       "/organization/cbazaar                                                                   1\n",
       "/organization/biba-apparels                                                             1\n",
       "/organization/igate-patni-computers                                                     1\n",
       "/organization/bestylish-com                                                             1\n",
       "/organization/mettl-com                                                                 1\n",
       "/organization/kartrocket                                                                1\n",
       "/organization/meritnation-com                                                           1\n",
       "/organization/voonik-com                                                                1\n",
       "/organization/vedantu-innovations                                                       1\n",
       "/organization/unbxd                                                                     1\n",
       "/organization/trucksfirst                                                               1\n",
       "Name: permalink, dtype: int64"
      ]
     },
     "execution_count": 278,
     "metadata": {},
     "output_type": "execute_result"
    }
   ],
   "source": [
    "#master_frame.loc[master_frame['funding_round_type'].isin(selected_type), :]\n",
    "ind_df = master_frame_map_df.loc[master_frame_map_df['country_code'].isin(['IND']), :]\n",
    "ind_df.head()\n",
    "ind_df['raised_amount_usd'].sum()\n",
    "len(ind_df.index)\n",
    "ind_sector_grp = ind_df.groupby(['sector'])\n",
    "#merged_company_map_grp['permalink'].count().sort_values(ascending=False).head(42)\n",
    "ind_sector_grp['raised_amount_usd'].sum().sort_values(ascending=False).head(42)\n",
    "ind_sector_grp['permalink'].count().sort_values(ascending=False).head(42)\n",
    "\n",
    "ind_sector_df = ind_df.loc[ind_df['sector']==8, :]\n",
    "ind_sector_df.head(42)\n",
    "ind_sector_comp_grp = ind_sector_df.groupby(['permalink'])\n",
    "ind_sector_comp_grp['permalink'].count().sort_values(ascending=False).head(42)"
   ]
  },
  {
   "cell_type": "code",
   "execution_count": 276,
   "metadata": {
    "collapsed": true
   },
   "outputs": [
    {
     "data": {
      "text/plain": [
       "permalink\n",
       "/organization/aperto-networks              13\n",
       "/organization/sand-2                       11\n",
       "/organization/airspan-networks             11\n",
       "/organization/glasshouse-technologies      11\n",
       "/organization/verisilicon-holdings         10\n",
       "/organization/box                          10\n",
       "/organization/intransa                     10\n",
       "/organization/kareo                         8\n",
       "/organization/bridgewave                    8\n",
       "/organization/actelis-networks              8\n",
       "/organization/fango                         8\n",
       "/organization/mongodb-inc                   8\n",
       "/organization/soasta                        8\n",
       "/organization/pinterest                     8\n",
       "/organization/axcient                       7\n",
       "/organization/snaplogic                     7\n",
       "/organization/yesvideo                      7\n",
       "/organization/alert-logic                   7\n",
       "/organization/apigee                        7\n",
       "/organization/photobucket                   7\n",
       "/organization/relayrides                    7\n",
       "/organization/ifbyphone                     7\n",
       "/organization/dexterra                      7\n",
       "/organization/countertack                   7\n",
       "/organization/fab-com                       7\n",
       "/organization/kineto-wireless               7\n",
       "/organization/coupa                         7\n",
       "/organization/abiquo-group                  7\n",
       "/organization/scrollmotion                  6\n",
       "/organization/cozigroup                     6\n",
       "/organization/skytap                        6\n",
       "/organization/appdynamics                   6\n",
       "/organization/lyft                          6\n",
       "/organization/business-insider              6\n",
       "/organization/gigsky                        6\n",
       "/organization/jasper-wireless               6\n",
       "/organization/pbworks                       6\n",
       "/organization/gamechanger-media             6\n",
       "/organization/cloud-technology-partners     6\n",
       "/organization/mobileiron                    6\n",
       "/organization/fancy                         6\n",
       "/organization/sugarsync                     6\n",
       "Name: permalink, dtype: int64"
      ]
     },
     "execution_count": 276,
     "metadata": {},
     "output_type": "execute_result"
    }
   ],
   "source": [
    "usa_df = master_frame_map_df.loc[master_frame_map_df['country_code'].isin(['USA']), :]\n",
    "usa_df.head()\n",
    "usa_sector_grp = usa_df.groupby(['sector'])\n",
    "#merged_company_map_grp['permalink'].count().sort_values(ascending=False).head(42)\n",
    "usa_df['raised_amount_usd'].sum()\n",
    "len(usa_df.index)\n",
    "usa_sector_grp['raised_amount_usd'].sum().sort_values(ascending=False).head(42)\n",
    "usa_sector_grp['permalink'].count().sort_values(ascending=False).head(42)\n",
    "\n",
    "usa_sector_df = usa_df.loc[usa_df['sector']==7, :]\n",
    "usa_sector_df.head(42)\n",
    "usa_sector_comp_grp = usa_sector_df.groupby(['permalink'])\n",
    "usa_sector_comp_grp['permalink'].count().sort_values(ascending=False).head(42)"
   ]
  },
  {
   "cell_type": "code",
   "execution_count": 351,
   "metadata": {
    "collapsed": true
   },
   "outputs": [
    {
     "data": {
      "text/plain": [
       "permalink\n",
       "/organization/creation-technologies     9\n",
       "/organization/teradici                  6\n",
       "/organization/coveo                     5\n",
       "/organization/lxdata                    4\n",
       "/organization/kobo                      3\n",
       "/organization/payfirma-corporation      2\n",
       "/organization/flybits                   2\n",
       "/organization/embotics-corporation      2\n",
       "/organization/voipshield-systems        2\n",
       "/organization/desire2learn              2\n",
       "/organization/inetco-systems-limited    2\n",
       "/organization/extreme-startups          2\n",
       "/organization/shop-ca                   2\n",
       "/organization/tungle                    2\n",
       "/organization/vivonet                   2\n",
       "/organization/cml-versatel              1\n",
       "/organization/epresence                 1\n",
       "/organization/clearpath-robotics        1\n",
       "/organization/cymax                     1\n",
       "/organization/busbud                    1\n",
       "/organization/demeure                   1\n",
       "/organization/bistro-corp               1\n",
       "/organization/avidretail                1\n",
       "/organization/algolux                   1\n",
       "/organization/edeal-services            1\n",
       "/organization/epact-network             1\n",
       "/organization/wynd-2                    1\n",
       "/organization/hatsize                   1\n",
       "/organization/fakespace-systems         1\n",
       "/organization/genoil                    1\n",
       "/organization/glentel                   1\n",
       "/organization/indicee                   1\n",
       "/organization/leadsift                  1\n",
       "/organization/nexio                     1\n",
       "/organization/oneclass                  1\n",
       "/organization/orckestra                 1\n",
       "/organization/prodigy-game              1\n",
       "/organization/protecode                 1\n",
       "/organization/redline-communications    1\n",
       "/organization/scenedoc                  1\n",
       "/organization/snapsort                  1\n",
       "/organization/tribe-hr                  1\n",
       "Name: permalink, dtype: int64"
      ]
     },
     "execution_count": 351,
     "metadata": {},
     "output_type": "execute_result"
    }
   ],
   "source": [
    "can_df = master_frame_map_df.loc[master_frame_map_df['country_code'].isin(['CAN']), :]\n",
    "can_df.head()\n",
    "can_sector_grp = can_df.groupby(['sector'])\n",
    "#merged_company_map_grp['permalink'].count().sort_values(ascending=False).head(42)\n",
    "can_sector_grp['raised_amount_usd'].sum().sort_values(ascending=False).head(42)\n",
    "can_df['raised_amount_usd'].sum()\n",
    "len(can_df.index)\n",
    "can_sector_grp['raised_amount_usd'].sum().sort_values(ascending=False).head(42)\n",
    "can_sector_grp['permalink'].count().sort_values(ascending=False).head(42)\n",
    "\n",
    "can_sector_df = can_df.loc[can_df['sector']==8, :]\n",
    "can_sector_df.head(42)\n",
    "can_sector_comp_grp = can_sector_df.groupby(['permalink'])\n",
    "can_sector_comp_grp['permalink'].count().sort_values(ascending=False).head(42)"
   ]
  },
  {
   "cell_type": "code",
   "execution_count": 352,
   "metadata": {},
   "outputs": [
    {
     "data": {
      "text/plain": [
       "sector\n",
       "9    115\n",
       "8     75\n",
       "7     67\n",
       "3     55\n",
       "4     42\n",
       "6     36\n",
       "5     21\n",
       "1     14\n",
       "Name: permalink, dtype: int64"
      ]
     },
     "execution_count": 352,
     "metadata": {},
     "output_type": "execute_result"
    }
   ],
   "source": [
    "can_sector_grp['permalink'].count().sort_values(ascending=False).head(42)"
   ]
  },
  {
   "cell_type": "code",
   "execution_count": 249,
   "metadata": {
    "collapsed": true
   },
   "outputs": [
    {
     "data": {
      "text/plain": [
       "country_code  sector\n",
       "USA           9        54141754512.0000\n",
       "              7        32032266392.0000\n",
       "              3        31597353896.0000\n",
       "              8        31465424097.0000\n",
       "              4        14489766139.0000\n",
       "              6        12725795289.0000\n",
       "              5        12167644613.0000\n",
       "              1        10662714907.0000\n",
       "CHN           9         4738081729.0000\n",
       "              7         4492486057.0000\n",
       "IND           8         3926491918.0000\n",
       "CHN           5         3703661327.0000\n",
       "              8         2663857331.0000\n",
       "              6         2416397387.0000\n",
       "GBR           9         1997436174.0000\n",
       "IND           1         1489700000.0000\n",
       "CHN           4         1436291250.0000\n",
       "SWE           7         1271263223.0000\n",
       "GBR           8         1181457289.0000\n",
       "              3         1156556689.0000\n",
       "CAN           9         1030244796.0000\n",
       "FRA           9         1028532479.0000\n",
       "GBR           7          910971290.0000\n",
       "ISR           9          896241505.0000\n",
       "CHN           1          878600000.0000\n",
       "FRA           4          846611457.0000\n",
       "CAN           8          697329535.0000\n",
       "              7          685648414.0000\n",
       "ISR           7          671602797.0000\n",
       "IND           7          664250978.0000\n",
       "GBR           5          651436201.0000\n",
       "DEU           9          645375557.0000\n",
       "GBR           4          637183512.0000\n",
       "JPN           9          628872558.0000\n",
       "IND           4          626177799.0000\n",
       "              9          589996182.0000\n",
       "DEU           4          557567606.0000\n",
       "CAN           3          510369109.0000\n",
       "CHE           3          493422561.0000\n",
       "SGP           9          492717241.0000\n",
       "DEU           3          474181654.0000\n",
       "BRA           8          451530223.0000\n",
       "Name: raised_amount_usd, dtype: float64"
      ]
     },
     "execution_count": 249,
     "metadata": {},
     "output_type": "execute_result"
    }
   ],
   "source": [
    "merged_company_map_grp = master_frame_map_df.groupby(['country_code', 'sector'])\n",
    "#merged_company_map_grp['permalink'].count().sort_values(ascending=False).head(42)\n",
    "merged_company_map_grp['raised_amount_usd'].sum().sort_values(ascending=False).head(42)"
   ]
  },
  {
   "cell_type": "code",
   "execution_count": 359,
   "metadata": {},
   "outputs": [
    {
     "data": {
      "text/plain": [
       "<BarContainer object of 3 artists>"
      ]
     },
     "execution_count": 359,
     "metadata": {},
     "output_type": "execute_result"
    },
    {
     "data": {
      "image/png": "[encoded data removed]",
      "text/plain": [
       "<Figure size 432x288 with 1 Axes>"
      ]
     },
     "metadata": {},
     "output_type": "display_data"
    }
   ],
   "source": [
    "data = [[4175, 2689, 2317],\n",
    "[101,58,52],\n",
    "[115,75,67]]\n",
    "\n",
    "X = np.arange(3)\n",
    "fig = plt.figure()\n",
    "ax = fig.add_axes([0,0,1,1])\n",
    "ax.bar(X + 0.00, data[0], color = 'b', width = 0.25)\n",
    "ax.bar(X + 0.25, data[1], color = 'g', width = 0.25)\n",
    "ax.bar(X + 0.50, data[2], color = 'r', width = 0.25)"
   ]
  },
  {
   "cell_type": "code",
   "execution_count": null,
   "metadata": {},
   "outputs": [],
   "source": []
  }
 ],
 "metadata": {
  "kernelspec": {
   "display_name": "Python 3",
   "language": "python",
   "name": "python3"
  },
  "language_info": {
   "codemirror_mode": {
    "name": "ipython",
    "version": 3
   },
   "file_extension": ".py",
   "mimetype": "text/x-python",
   "name": "python",
   "nbconvert_exporter": "python",
   "pygments_lexer": "ipython3",
   "version": "3.7.6"
  }
 },
 "nbformat": 4,
 "nbformat_minor": 4
}
